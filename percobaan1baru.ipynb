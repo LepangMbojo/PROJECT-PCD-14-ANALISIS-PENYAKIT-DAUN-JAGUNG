{
 "cells": [
  {
   "cell_type": "markdown",
   "id": "252f0072",
   "metadata": {},
   "source": [
    "# percobaan 1 "
   ]
  },
  {
   "cell_type": "markdown",
   "id": "e6029fc8",
   "metadata": {},
   "source": [
    "###p"
   ]
  },
  {
   "cell_type": "code",
   "execution_count": null,
   "id": "e237e6f2",
   "metadata": {},
   "outputs": [],
   "source": [
    "# Import library yang kalian butuhkan\n",
    "import os\n",
    "import cv2 as cv\n",
    "import matplotlib.pyplot as plt\n",
    "import numpy as np\n",
    "import pandas as pd\n",
    "from sklearn.model_selection import train_test_split, cross_val_predict\n",
    "from sklearn.metrics import accuracy_score, classification_report\n",
    "from skimage.feature import graycomatrix, graycoprops\n",
    "from scipy.stats import entropy\n",
    "from sklearn.ensemble import RandomForestClassifier\n",
    "from sklearn.svm import SVC\n",
    "from sklearn.neighbors import KNeighborsClassifier\n",
    "from sklearn.metrics import accuracy_score, precision_score, recall_score, f1_score, confusion_matrix, classification_report\n",
    "from sklearn.metrics import (confusion_matrix, ConfusionMatrixDisplay)\n",
    "import seaborn as sns\n",
    "import random"
   ]
  },
  {
   "cell_type": "code",
   "execution_count": null,
   "id": "cef385d3",
   "metadata": {},
   "outputs": [],
   "source": [
    "dataset = \"dataset\"\n",
    "folders = [folder for folder in os.listdir(dataset) if os.path.isdir(os.path.join(dataset, folder))]\n",
    "\n",
    "num_files = np.array([len(os.listdir(os.path.join(dataset, folder))) for folder in folders])"
   ]
  },
  {
   "cell_type": "code",
   "execution_count": null,
   "id": "d4160f10",
   "metadata": {},
   "outputs": [],
   "source": [
    "plt.figure(figsize=(10, 5))\n",
    "plt.bar(folders, num_files)\n",
    "plt.xlabel('Nama Folder')\n",
    "plt.ylabel('Jumlah File Foto')\n",
    "plt.title('Histogram Jumlah File Foto pada Setiap Folder Dataset')\n",
    "plt.tight_layout()\n",
    "plt.show()"
   ]
  },
  {
   "cell_type": "code",
   "execution_count": null,
   "id": "066ae5af",
   "metadata": {},
   "outputs": [],
   "source": [
    "def resize(img, new_width=256, new_height=256):\n",
    "    old_width, old_height = img.shape\n",
    "    resize = np.zeros((new_width, new_height), dtype=img.dtype)\n",
    "\n",
    "    for i in range(new_width):\n",
    "        for j in range(new_height):\n",
    "            x = int(i * old_width / new_width)\n",
    "            y = int(j * old_height / new_height)\n",
    "            resize[i,j] = img[x,y] \n",
    "    return resize\n",
    "\n",
    "data = []\n",
    "labels = []\n",
    "file_name = []\n",
    "for sub_folder in os.listdir(\"dataset\\\\\"):\n",
    "    sub_folder_files = os.listdir(os.path.join(\"dataset\\\\\", sub_folder))\n",
    "    for i, filename in enumerate(sub_folder_files):\n",
    "        img_path = os.path.join(\"dataset\\\\\", sub_folder, filename)\n",
    "        img = cv.imread(img_path)\n",
    "        img = img.astype(np.uint8)\n",
    "        img = cv.cvtColor(img, cv.COLOR_BGR2GRAY)\n",
    "        \n",
    "        img = resize(img)\n",
    "        \n",
    "        data.append(img)\n",
    "        labels.append(sub_folder)\n",
    "        name = os.path.splitext(filename)[0]\n",
    "        file_name.append(filename)\n",
    "        \n",
    "data = np.array(data)\n",
    "labels = np.array(labels)"
   ]
  },
  {
   "cell_type": "code",
   "execution_count": null,
   "id": "7418f717",
   "metadata": {},
   "outputs": [],
   "source": [
    "def imageByLabel(dataset):\n",
    "    folders = [folder for folder in os.listdir(dataset) if os.path.isdir(os.path.join(dataset, folder))]\n",
    "    \n",
    "    fig, axs = plt.subplots(1, len(folders), figsize=(15, 5))\n",
    "    for i, folder in enumerate(folders):\n",
    "        folder_path = os.path.join(dataset, folder)\n",
    "        image_files = [file for file in os.listdir(folder_path) if file.endswith('.jpg') or file.endswith('.png')]\n",
    "        \n",
    "        if len(image_files) > 0:\n",
    "            random_image = random.choice(image_files)\n",
    "            img_path = os.path.join(folder_path, random_image)\n",
    "            img = cv.imread(img_path)\n",
    "            img = cv.cvtColor(img, cv.COLOR_BGR2RGB)\n",
    "            \n",
    "            axs[i].imshow(img)\n",
    "            axs[i].set_title(f\"Label: {folder}\")\n",
    "            axs[i].axis('off')\n",
    "\n",
    "    plt.show()"
   ]
  },
  {
   "cell_type": "code",
   "execution_count": null,
   "id": "f1245c8c",
   "metadata": {},
   "outputs": [],
   "source": [
    "imageByLabel(dataset)"
   ]
  },
  {
   "cell_type": "code",
   "execution_count": null,
   "id": "ad04a6be",
   "metadata": {},
   "outputs": [],
   "source": [
    "def show_images(images, titles=None):\n",
    "    plt.figure(figsize=(15, 5))\n",
    "    for i in range(len(images)):\n",
    "        plt.subplot(1, len(images), i + 1)\n",
    "        plt.imshow(cv.cvtColor(images[i], cv.COLOR_BGR2RGB))\n",
    "        if titles is not None:\n",
    "            plt.title(titles[i])\n",
    "        plt.axis('off')\n",
    "    plt.show()"
   ]
  },
  {
   "cell_type": "code",
   "execution_count": null,
   "id": "dd84911e",
   "metadata": {},
   "outputs": [],
   "source": [
    "show_images(data[:5], labels[:5])"
   ]
  },
  {
   "cell_type": "code",
   "execution_count": null,
   "id": "b6ae6506",
   "metadata": {},
   "outputs": [],
   "source": [
    "def displayRes(images, title):\n",
    "    plt.figure(figsize=(15, 5))\n",
    "    for i in range(5):\n",
    "        plt.subplot(1, 5, i+1)\n",
    "        plt.imshow(images[i], cmap='gray')\n",
    "        plt.axis('off')\n",
    "        plt.title(title + f' {i+1}')\n",
    "    plt.show()"
   ]
  },
  {
   "cell_type": "markdown",
   "id": "b016c765",
   "metadata": {},
   "source": [
    "# Data Preparation"
   ]
  },
  {
   "cell_type": "markdown",
   "id": "4ea9c9ad",
   "metadata": {},
   "source": [
    "### Ekualisasi histogram"
   ]
  },
  {
   "cell_type": "code",
   "execution_count": null,
   "id": "fd471fe7",
   "metadata": {},
   "outputs": [],
   "source": [
    "# 2. Hitung histogram citra asli\n",
    "def get_histogram(img):\n",
    "    hist = np.zeros(256, dtype=int)\n",
    "    for i in range(img.shape[0]):\n",
    "        for j in range(img.shape[1]):\n",
    "            hist[img[i, j]] += 1\n",
    "    return hist"
   ]
  },
  {
   "cell_type": "code",
   "execution_count": null,
   "id": "b0a5decb",
   "metadata": {},
   "outputs": [],
   "source": [
    "# 3. Hitung distribusi kumulatif (CDF)\n",
    "def dist_kumulatif(hist):\n",
    "    cdf = np.zeros(256, dtype=float)\n",
    "    total_pixels = np.sum(hist)\n",
    "    cumulative = 0\n",
    "    for i in range(256):\n",
    "        cumulative += hist[i]\n",
    "        cdf[i] = cumulative / total_pixels\n",
    "    return cdf"
   ]
  },
  {
   "cell_type": "code",
   "execution_count": null,
   "id": "61e5ffa2",
   "metadata": {},
   "outputs": [],
   "source": [
    "# 4. Normalisasi CDF ke rentang 0-255\n",
    "def normalisasi_cdf(cdf):\n",
    "    cdf_normalized = np.round(cdf * 255).astype(np.uint8)\n",
    "    return cdf_normalized"
   ]
  },
  {
   "cell_type": "code",
   "execution_count": null,
   "id": "6e6d4615",
   "metadata": {},
   "outputs": [],
   "source": [
    "# 5. Mapping nilai piksel berdasarkan CDF\n",
    "def mapping_nilai(img, mapping):\n",
    "    result = np.zeros_like(img)\n",
    "    for i in range(img.shape[0]):\n",
    "        for j in range(img.shape[1]):\n",
    "            result[i, j] = mapping[img[i, j]]\n",
    "    return result"
   ]
  },
  {
   "cell_type": "code",
   "execution_count": null,
   "id": "2ed34810",
   "metadata": {},
   "outputs": [],
   "source": [
    "def ekualisasi(data):\n",
    "    # Proses Ekualisasi Histogram\n",
    "    hist = get_histogram(data)\n",
    "    cdf = dist_kumulatif(hist)\n",
    "    mapping = normalisasi_cdf(cdf)\n",
    "        \n",
    "    # hasilek = rounding(timeline)\n",
    "    hasil_ekualisasi = mapping_nilai(data, mapping)\n",
    "    # ekualisasi_img2 = mapping_nilai(gabungan_mc, mapping)\n",
    "    return hasil_ekualisasi"
   ]
  },
  {
   "cell_type": "markdown",
   "id": "2c4ff271",
   "metadata": {},
   "source": [
    "### Sharpening"
   ]
  },
  {
   "cell_type": "code",
   "execution_count": null,
   "id": "b24d64c1",
   "metadata": {},
   "outputs": [],
   "source": [
    "kernel5x5 = np.array([\n",
    "    [1/25,1/25,1/25,1/25,1/25,],\n",
    "    [1/25,1/25,1/25,1/25,1/25,],\n",
    "    [1/25,1/25,1/25,1/25,1/25,],\n",
    "    [1/25,1/25,1/25,1/25,1/25,],\n",
    "    [1/25,1/25,1/25,1/25,1/25,],\n",
    "])"
   ]
  },
  {
   "cell_type": "code",
   "execution_count": null,
   "id": "0b8973d4",
   "metadata": {},
   "outputs": [],
   "source": [
    "\n",
    "def padding5x5(image):\n",
    "    return np.pad(image, pad_width=2, mode='edge')"
   ]
  },
  {
   "cell_type": "code",
   "execution_count": null,
   "id": "331c1013",
   "metadata": {},
   "outputs": [],
   "source": [
    "def sharpening(image, kernel):\n",
    "    height, width = image.shape\n",
    "    kh, kw = kernel.shape\n",
    "    result = np.zeros((height, width), dtype=int)\n",
    "    padded_image = padding5x5(image)\n",
    "    \n",
    "    for i in range(height):\n",
    "        for j in range(width):\n",
    "            region = padded_image[i:i+kh, j:j+kw]\n",
    "            result[i, j] = np.sum(region * kernel)\n",
    "    \n",
    "    return result"
   ]
  },
  {
   "cell_type": "markdown",
   "id": "94e2091d",
   "metadata": {},
   "source": [
    "### Treshold"
   ]
  },
  {
   "cell_type": "code",
   "execution_count": null,
   "id": "486d2819",
   "metadata": {},
   "outputs": [],
   "source": [
    "def use_threshold(image):\n",
    "    image = np.array(image)\n",
    "    result = np.zeros_like(image)\n",
    "    \n",
    "    for i in range(image.shape[0]):\n",
    "        for j in range(image.shape[1]):\n",
    "            if image[i][j] >= 127 :\n",
    "                result[i][j] = 255\n",
    "            else:\n",
    "                result[i][j] = 0\n",
    "    return result"
   ]
  },
  {
   "cell_type": "markdown",
   "id": "6a8eda45",
   "metadata": {},
   "source": [
    "### Closing"
   ]
  },
  {
   "cell_type": "code",
   "execution_count": null,
   "id": "73819219",
   "metadata": {},
   "outputs": [],
   "source": [
    "def dilasi(img, kernel):\n",
    "    result = np.zeros_like(img, dtype=float)\n",
    "    m, n = img.shape\n",
    "    k1, k2 = kernel.shape\n",
    "    center1, center2 = k1 // 2, k2 // 2\n",
    "\n",
    "    for i in range(center1, m - center1):\n",
    "        for j in range(center2, n - center2):\n",
    "            for k in range(-center1, center1 + 1):\n",
    "                for l in range(-center2, center2 + 1):\n",
    "                    if kernel[k + center1, l + center2] == 1:\n",
    "                        if img[i + k, j + l] == 255:\n",
    "                            result[i, j] = 255\n",
    "                            break\n",
    "                if result[i, j] == 255:\n",
    "                    break\n",
    "\n",
    "    return result"
   ]
  },
  {
   "cell_type": "code",
   "execution_count": null,
   "id": "45c1dc43",
   "metadata": {},
   "outputs": [],
   "source": [
    "def padding(image):\n",
    "    return np.pad(image, pad_width=2, mode='edge')\n",
    "\n",
    "# Erosi\n",
    "def erosi(image, kernel):\n",
    "    baris, kolom = image.shape\n",
    "    result = np.zeros_like(image)\n",
    "    img_pad = padding(image)\n",
    "    \n",
    "    for i in range(baris):\n",
    "        for j in range(kolom):\n",
    "            if img_pad[i + 2, j + 2] == 255:\n",
    "                cocok = True\n",
    "                for k in range(kernel.shape[0]):\n",
    "                    for l in range(kernel.shape[1]):\n",
    "                        if kernel[k, l] == 1 and img_pad[i + k, j + l] == 0:\n",
    "                            cocok = False\n",
    "                if cocok:\n",
    "                    result[i, j] = 255\n",
    "                else:\n",
    "                    result[i, j] = 0\n",
    "    return result"
   ]
  },
  {
   "cell_type": "code",
   "execution_count": null,
   "id": "4288ef58",
   "metadata": {},
   "outputs": [],
   "source": [
    "def closing(citra, kernel):\n",
    "    hasil = np.zeros(citra.shape, dtype=int)\n",
    "\n",
    "    citra_dilasi = dilasi(citra, kernel)\n",
    "    hasil = erosi(citra_dilasi, kernel)\n",
    "    \n",
    "    return hasil"
   ]
  },
  {
   "cell_type": "code",
   "execution_count": null,
   "id": "6e4ca4a6",
   "metadata": {},
   "outputs": [],
   "source": [
    "def sobel(gray):\n",
    "    sobel_x = np.array([[-1, 0, 1],\n",
    "                        [-2, 0, 2],\n",
    "                        [-1, 0, 1]])\n",
    "\n",
    "    sobel_y = np.array([[ 1,  2,  1],\n",
    "                        [ 0,  0,  0],\n",
    "                        [-1, -2, -1]])\n",
    "\n",
    "    tinggi, lebar = gray.shape\n",
    "    hasil = np.zeros((tinggi, lebar), dtype=np.float32)\n",
    "\n",
    "    for i in range(1, tinggi-1):\n",
    "        for j in range(1, lebar-1):\n",
    "            region = gray[i-1:i+2, j-1:j+2]\n",
    "            gx = np.sum(region * sobel_x)\n",
    "            gy = np.sum(region * sobel_y)\n",
    "            hasil[i, j] = np.sqrt(gx**2 + gy**2)\n",
    "\n",
    "    hasil = np.clip(hasil, 0, 255)\n",
    "    return hasil.astype(np.uint8)"
   ]
  },
  {
   "cell_type": "markdown",
   "id": "235a1323",
   "metadata": {},
   "source": [
    "## Menampilkan sampel citra"
   ]
  },
  {
   "cell_type": "code",
   "execution_count": null,
   "id": "8cbce2bb",
   "metadata": {},
   "outputs": [],
   "source": [
    "def displayImg(row, column, data):\n",
    "    fig = plt.figure(figsize=(15, 10))\n",
    "    for i in range(1, row * column + 1):\n",
    "        fig.add_subplot(row, column, i)\n",
    "        plt.imshow(data[i - 1], cmap='gray')\n",
    "        plt.axis('off')  \n",
    "    plt.show()\n",
    "displayImg(12,12, data)"
   ]
  },
  {
   "cell_type": "code",
   "execution_count": null,
   "id": "14c4130a",
   "metadata": {},
   "outputs": [],
   "source": [
    "# def grayscale(image):\n",
    "#     return cv.cvtColor(image, cv.COLOR_RGB2GRAY)"
   ]
  },
  {
   "cell_type": "code",
   "execution_count": null,
   "id": "88519f87",
   "metadata": {},
   "outputs": [],
   "source": [
    "def use_thresholding(image, n):\n",
    "    image = np.array(image)\n",
    "    result = np.zeros_like(image)\n",
    "    \n",
    "    for i in range(image.shape[0]):\n",
    "        for j in range(image.shape[1]):\n",
    "            if image[i][j] >= n:\n",
    "                result[i][j] = 0\n",
    "            else:\n",
    "                result[i][j] = 255\n",
    "    return result"
   ]
  },
  {
   "cell_type": "code",
   "execution_count": null,
   "id": "8151f878",
   "metadata": {},
   "outputs": [],
   "source": [
    "# def dilasi(img, kernel):\n",
    "#     result = np.zeros_like(img, dtype=float)\n",
    "#     m, n = img.shape\n",
    "#     k1, k2 = kernel.shape\n",
    "#     center1, center2 = k1 // 2, k2 // 2\n",
    "\n",
    "#     for i in range(center1, m - center1):\n",
    "#         for j in range(center2, n - center2):\n",
    "#             for k in range(-center1, center1 + 1):\n",
    "#                 for l in range(-center2, center2 + 1):\n",
    "#                     if kernel[k + center1, l + center2] == 1:\n",
    "#                         if img[i + k, j + l] == 255:\n",
    "#                             result[i, j] = 255\n",
    "#                             break\n",
    "#                 if result[i, j] == 255:\n",
    "#                     break\n",
    "\n",
    "#     return result"
   ]
  },
  {
   "cell_type": "code",
   "execution_count": null,
   "id": "837fdf45",
   "metadata": {},
   "outputs": [],
   "source": [
    "# def padding(image):\n",
    "#     return np.pad(image, pad_width=2, mode='edge')\n",
    "\n",
    "# Erosi\n",
    "# def erosi(image, kernel):\n",
    "#     baris, kolom = image.shape\n",
    "#     result = np.zeros_like(image)\n",
    "#     img_pad = padding(image)\n",
    "    \n",
    "#     for i in range(baris):\n",
    "#         for j in range(kolom):\n",
    "#             if img_pad[i + 2, j + 2] == 255:\n",
    "#                 cocok = True\n",
    "#                 for k in range(kernel.shape[0]):\n",
    "#                     for l in range(kernel.shape[1]):\n",
    "#                         if kernel[k, l] == 1 and img_pad[i + k, j + l] == 0:\n",
    "#                             cocok = False\n",
    "#                 if cocok:\n",
    "#                     result[i, j] = 255\n",
    "#                 else:\n",
    "#                     result[i, j] = 0\n",
    "#     return result"
   ]
  },
  {
   "cell_type": "code",
   "execution_count": null,
   "id": "4a53e163",
   "metadata": {},
   "outputs": [],
   "source": [
    "# def closing(citra, kernel):\n",
    "#     hasil = np.zeros(citra.shape, dtype=int)\n",
    "\n",
    "#     citra_dilasi = dilasi(citra, kernel)\n",
    "#     hasil = erosi(citra_dilasi, kernel)\n",
    "    \n",
    "#     return hasil"
   ]
  },
  {
   "cell_type": "markdown",
   "id": "38cb6921",
   "metadata": {},
   "source": [
    "## Define Preprocessing Function\n"
   ]
  },
  {
   "cell_type": "code",
   "execution_count": null,
   "id": "3b267fe3",
   "metadata": {},
   "outputs": [],
   "source": [
    "#grayscale, ekualisasi histogram, sharpening,\n",
    "\n",
    "def prepro1(data):\n",
    "\n",
    "    #1 ekualisasi histogram\n",
    "    img_eq = ekualisasi(data)\n",
    "\n",
    "    #3 sharpening\n",
    "    img_sharp = sharpening(img_eq, kernel5x5)\n",
    "\n",
    "    #2 sobel\n",
    "    img_sobel = sobel(img_sharp)\n",
    "\n",
    "    #4 threshold\n",
    "    img_thres = use_thresholding(img_sobel, 110)\n",
    "\n",
    "    # dilasi\n",
    "    # img_dilasi = dilasi(img_thres, kernel5x5)\n",
    "\n",
    "    # # closing\n",
    "    # img_closing = closing(img_dilasi, kernel5x5)\n",
    "\n",
    "    #5 konversi\n",
    "    img_final = img_thres.astype(np.uint8)\n",
    "\n",
    "\n",
    "    return img_final"
   ]
  },
  {
   "cell_type": "code",
   "execution_count": null,
   "id": "3bdd1edd",
   "metadata": {},
   "outputs": [],
   "source": [
    "hawar_img = []\n",
    "karat_img = []\n",
    "sehat_img = []\n",
    "\n",
    "for i in range(len(data)):\n",
    "    label = labels[i].strip().lower()\n",
    "    \n",
    "    if label == 'hawar' and len(hawar_img) < 10:\n",
    "        gray = data[i]\n",
    "        img_final = prepro1(gray)\n",
    "        hawar_img.append(img_final)\n",
    "        \n",
    "    elif label == 'karat' and len(karat_img) < 10:\n",
    "        gray = data[i]\n",
    "        img_final = prepro1(gray)\n",
    "        karat_img.append(img_final)\n",
    "\n",
    "    elif label == 'sehat' and len(sehat_img) < 10:\n",
    "        gray = data[i]\n",
    "        img_final = prepro1(gray)\n",
    "        sehat_img.append(img_final)\n",
    "\n",
    "    if len(hawar_img) >= 10 and len(karat_img) >= 10 and len(sehat_img) >= 10:\n",
    "        break\n",
    "\n",
    "displayImg(2, 5, hawar_img)\n",
    "displayImg(2, 5, karat_img)    \n",
    "displayImg(2, 5, sehat_img)\n"
   ]
  },
  {
   "cell_type": "markdown",
   "id": "a1a9affd",
   "metadata": {},
   "source": [
    "## Proprocessing"
   ]
  },
  {
   "cell_type": "code",
   "execution_count": null,
   "id": "3e6d8a37",
   "metadata": {},
   "outputs": [],
   "source": [
    "# pada bagian ini bisa gunakan data yang sebelum augmentasi atau setelah augmentasi\n",
    "dataPreprocessed = []\n",
    "for i in range(len(data)): # Loop through each image and do preprocessing\n",
    "\timg = data[i]\n",
    "\t\n",
    "\t# coba pakai salah satu prepro, misal prepro1\n",
    "\tdata_prepro1 = prepro1(img) \n",
    "\n",
    "\tdataPreprocessed.append(data_prepro1)"
   ]
  },
  {
   "cell_type": "markdown",
   "id": "7b3826a5",
   "metadata": {},
   "source": [
    "## Feature Extraction"
   ]
  },
  {
   "cell_type": "code",
   "execution_count": null,
   "id": "90cf7805",
   "metadata": {},
   "outputs": [],
   "source": [
    "def glcm(image, derajat):\n",
    "    if derajat == 0:\n",
    "        angles = [0]\n",
    "    elif derajat == 45:\n",
    "        angles = [np.pi / 4]\n",
    "    elif derajat == 90:\n",
    "        angles = [np.pi / 2]\n",
    "    elif derajat == 135:\n",
    "        angles = [3 * np.pi / 4]\n",
    "    else:\n",
    "        raise ValueError(\"Invalid angle. It should be one of the following: 0, 45, 90, 135.\")\n",
    "    \n",
    "    # mengembalikan matrix glcm dari image\n",
    "    glcm = graycomatrix(image, [1], angles, 256, symmetric=True, normed=True)\n",
    "    return glcm"
   ]
  },
  {
   "cell_type": "code",
   "execution_count": null,
   "id": "e343cbc9",
   "metadata": {},
   "outputs": [],
   "source": [
    "def correlation(matriks):\n",
    "\treturn graycoprops(matriks, 'correlation')[0, 0]"
   ]
  },
  {
   "cell_type": "code",
   "execution_count": null,
   "id": "c0f6811f",
   "metadata": {},
   "outputs": [],
   "source": [
    "def dissimilarity(matriks):\n",
    "    return graycoprops(matriks, 'dissimilarity')[0, 0]"
   ]
  },
  {
   "cell_type": "code",
   "execution_count": null,
   "id": "d043e081",
   "metadata": {},
   "outputs": [],
   "source": [
    "def homogenity(matriks):\n",
    "    return graycoprops(matriks, 'homogeneity')[0, 0]"
   ]
  },
  {
   "cell_type": "code",
   "execution_count": null,
   "id": "02d8ff5a",
   "metadata": {},
   "outputs": [],
   "source": [
    "def contrast(matriks):\n",
    "    return graycoprops(matriks, 'contrast')[0, 0]"
   ]
  },
  {
   "cell_type": "code",
   "execution_count": null,
   "id": "bfe32e29",
   "metadata": {},
   "outputs": [],
   "source": [
    "def ASM(matriks):\n",
    "    return graycoprops(matriks, 'ASM')[0, 0]"
   ]
  },
  {
   "cell_type": "code",
   "execution_count": null,
   "id": "9d0a8366",
   "metadata": {},
   "outputs": [],
   "source": [
    "def energy(matriks):\n",
    "    return graycoprops(matriks, 'energy')[0, 0]"
   ]
  },
  {
   "cell_type": "code",
   "execution_count": null,
   "id": "a9b1110a",
   "metadata": {},
   "outputs": [],
   "source": [
    "def entropyGlcm(matriks):\n",
    "    return entropy(matriks.ravel())"
   ]
  },
  {
   "cell_type": "code",
   "execution_count": null,
   "id": "1a7aca2d",
   "metadata": {},
   "outputs": [],
   "source": [
    "Derajat0 = []\n",
    "Derajat45 = []\n",
    "Derajat90 = []\n",
    "Derajat135 = []\n",
    "for i in range(len(dataPreprocessed)):\n",
    "    D0 = glcm(dataPreprocessed[i], 0)\n",
    "    D45 = glcm(dataPreprocessed[i], 45)\n",
    "    D90 = glcm(dataPreprocessed[i], 90)\n",
    "    D135 = glcm(dataPreprocessed[i], 135)\n",
    "    Derajat0.append(D0)\n",
    "    Derajat45.append(D45)\n",
    "    Derajat90.append(D90)\n",
    "    Derajat135.append(D135)"
   ]
  },
  {
   "cell_type": "code",
   "execution_count": null,
   "id": "59bd14a6",
   "metadata": {},
   "outputs": [],
   "source": [
    "Kontras0, Kontras45, Kontras90, Kontras135 = [], [], [], []\n",
    "dissimilarity0, dissimilarity45, dissimilarity90, dissimilarity135 =  [], [], [], []\n",
    "homogenity0, homogenity45, homogenity90, homogenity135 = [], [], [], []\n",
    "entropy0, entropy45, entropy90, entropy135 =  [], [], [], []\n",
    "ASM0, ASM45, ASM90, ASM135 =  [], [], [], []\n",
    "energy0, energy45, energy90, energy135 =  [], [], [], []\n",
    "correlation0, correlation45, correlation90, correlation135 = [], [], [], []"
   ]
  },
  {
   "cell_type": "code",
   "execution_count": null,
   "id": "d65f6df1",
   "metadata": {},
   "outputs": [],
   "source": [
    "for i in range(len(dataPreprocessed)):\n",
    "    C0 = correlation(Derajat0[i])\n",
    "    correlation0.append(C0)\n",
    "    C45 = correlation(Derajat45[i])\n",
    "    correlation45.append(C45)\n",
    "    C90 = correlation(Derajat90[i])\n",
    "    correlation90.append(C90)\n",
    "    C135 = correlation(Derajat135[i])\n",
    "    correlation135.append(C135)"
   ]
  },
  {
   "cell_type": "code",
   "execution_count": null,
   "id": "0dfe41ae",
   "metadata": {},
   "outputs": [],
   "source": [
    "for i in range(len(data)):\n",
    "    K0 = contrast(Derajat0[i])\n",
    "    K45 = contrast(Derajat45[i])\n",
    "    K90 = contrast(Derajat90[i])\n",
    "    K135 = contrast(Derajat135[i])\n",
    "    Kontras0.append(K0)\n",
    "    Kontras45.append(K45)\n",
    "    Kontras90.append(K90)\n",
    "    Kontras135.append(K135)"
   ]
  },
  {
   "cell_type": "code",
   "execution_count": null,
   "id": "1666654c",
   "metadata": {},
   "outputs": [],
   "source": [
    "for i in range(len(data)):\n",
    "    Dis0 = dissimilarity(Derajat0[i])\n",
    "    Dis45 = dissimilarity(Derajat45[i])\n",
    "    Dis90 = dissimilarity(Derajat90[i])\n",
    "    Dis135 = dissimilarity(Derajat135[i])\n",
    "    dissimilarity0.append(Dis0)\n",
    "    dissimilarity45.append(Dis45)\n",
    "    dissimilarity90.append(Dis90)\n",
    "    dissimilarity135.append(Dis135)"
   ]
  },
  {
   "cell_type": "code",
   "execution_count": null,
   "id": "06cae9a8",
   "metadata": {},
   "outputs": [],
   "source": [
    "for i in range(len(data)):\n",
    "    H0 = homogenity(Derajat0[i])\n",
    "    H45 = homogenity(Derajat45[i])\n",
    "    H90 = homogenity(Derajat90[i])\n",
    "    H135 = homogenity(Derajat135[i])\n",
    "    homogenity0.append(H0)\n",
    "    homogenity45.append(H45)\n",
    "    homogenity90.append(H90)\n",
    "    homogenity135.append(H135)"
   ]
  },
  {
   "cell_type": "code",
   "execution_count": null,
   "id": "89291a92",
   "metadata": {},
   "outputs": [],
   "source": [
    "for i in range(len(data)):  \n",
    "    E0 = entropyGlcm(Derajat0[i])\n",
    "    E45 = entropyGlcm(Derajat45[i])\n",
    "    E90 = entropyGlcm(Derajat90[i])\n",
    "    E135 = entropyGlcm(Derajat135[i])\n",
    "    entropy0.append(E0)\n",
    "    entropy45.append(E45)\n",
    "    entropy90.append(E90)\n",
    "    entropy135.append(E135)"
   ]
  },
  {
   "cell_type": "code",
   "execution_count": null,
   "id": "e967813f",
   "metadata": {},
   "outputs": [],
   "source": [
    "for i in range(len(data)):\n",
    "    A0 = ASM(Derajat0[i])\n",
    "    A45 = ASM(Derajat45[i])\n",
    "    A90 = ASM(Derajat90[i])\n",
    "    A135 = ASM(Derajat135[i])\n",
    "    ASM0.append(A0)\n",
    "    ASM45.append(A45)\n",
    "    ASM90.append(A90)\n",
    "    ASM135.append(A135)"
   ]
  },
  {
   "cell_type": "code",
   "execution_count": null,
   "id": "80e825ac",
   "metadata": {},
   "outputs": [],
   "source": [
    "for i in range(len(data)):\n",
    "    ER0 = energy(Derajat0[i])\n",
    "    ER45 = energy(Derajat45[i])\n",
    "    ER90 = energy(Derajat90[i])\n",
    "    ER135 = energy(Derajat135[i])\n",
    "    energy0.append(ER0)\n",
    "    energy45.append(ER45)\n",
    "    energy90.append(ER90)\n",
    "    energy135.append(ER135)"
   ]
  },
  {
   "cell_type": "markdown",
   "id": "70332b74",
   "metadata": {},
   "source": [
    "## Write the extraction's results to CSV "
   ]
  },
  {
   "cell_type": "code",
   "execution_count": null,
   "id": "1a0642d8",
   "metadata": {},
   "outputs": [],
   "source": [
    "dataTable = {'Filename': file_name, 'Label': labels,\n",
    "        'Contrast0': Kontras0, 'Contrast45': Kontras45, 'Contrast90': Kontras90, 'Contrast135': Kontras135,\n",
    "        'Homogeneity0': homogenity0, 'Homogeneity45': homogenity45, 'Homogeneity90': homogenity90, 'Homogeneity135': homogenity135,\n",
    "        'Dissimilarity0': dissimilarity0, 'Dissimilarity45': dissimilarity45, 'Dissimilarity90': dissimilarity90, 'Dissimilarity135': dissimilarity135,\n",
    "        'Entropy0': entropy0, 'Entropy45': entropy45, 'Entropy90': entropy90, 'Entropy135': entropy135,\n",
    "        'ASM0': ASM0, 'ASM45': ASM45, 'ASM90': ASM90, 'ASM135': ASM135,\n",
    "        'Energy0': energy0, 'Energy45': energy45, 'Energy90': energy90, 'Energy135': energy135,\n",
    "        'Correlation0': correlation0, 'Correlation45': correlation45, 'Correlation90': correlation90, 'Correlation135': correlation135,\n",
    "        }\n",
    "df = pd.DataFrame(dataTable)\n",
    "df.to_csv('hasil_ekstraksi_1.csv', index=False)\n",
    "\n",
    "hasilEkstrak = pd.read_csv('hasil_ekstraksi_1.csv')\n",
    "hasilEkstrak\n"
   ]
  },
  {
   "cell_type": "markdown",
   "id": "68b4f328",
   "metadata": {},
   "source": [
    "## Features Selection"
   ]
  },
  {
   "cell_type": "markdown",
   "id": "0d39b980",
   "metadata": {},
   "source": [
    "pada bagian seleksi fitur ini bisa menggunakan metode seperti\n",
    "- PCA\n",
    "- LDA\n",
    "- t-SNE\n",
    "- Chi-square\n",
    "- ANOVA\n",
    "- Autoencoder\n",
    "- correlation\n",
    "- dll\n",
    "\n",
    "berikut contoh menggunakan correlation:"
   ]
  },
  {
   "cell_type": "code",
   "execution_count": null,
   "id": "436d87aa",
   "metadata": {},
   "outputs": [],
   "source": [
    "# Menghitung korelasi\n",
    "correlation = hasilEkstrak.drop(columns=['Label','Filename']).corr()\n",
    "\n",
    "# Menyaring fitur yang memiliki korelasi absolut lebih dari 0.95 dengan label\n",
    "threshold = 0.95 # atur threshold ini untuk menentukan seberapa besar korelasi yang ingin disaring\n",
    "selectionFeature = []\n",
    "columns = np.full((correlation.shape[0],), True, dtype=bool)\n",
    "for i in range(correlation.shape[0]):\n",
    "\tfor j in range(i+1, correlation.shape[0]):\n",
    "\t\tif correlation.iloc[i,j] >= threshold:\n",
    "\t\t\tif columns[j]:\n",
    "\t\t\t\tcolumns[j] = False\n",
    "select = hasilEkstrak.drop(columns=['Label','Filename']).columns[columns]\n",
    "x_new = hasilEkstrak[select]\n",
    "x_new\n",
    "y = hasilEkstrak['Label']\n",
    "plt.figure(figsize=(17,17))\n",
    "sns.heatmap(x_new.corr(), annot=True, cmap='Blues', fmt=\".2f\")"
   ]
  },
  {
   "cell_type": "markdown",
   "id": "8b81eb53",
   "metadata": {},
   "source": [
    "## Splitting Data"
   ]
  },
  {
   "cell_type": "code",
   "execution_count": null,
   "id": "fc5ec15f",
   "metadata": {},
   "outputs": [],
   "source": [
    "# ubah bagian test_size sesuai kebutuhan\n",
    "# 0.3 = 30% data untuk testing (train/test 70/30)\n",
    "# 0.2 = 20% data untuk testing (train/test 80/20)\n",
    "X_train, X_test, y_train, y_test = train_test_split(x_new, y, test_size=0.2, random_state=42)\n",
    "print(X_train.shape)\n",
    "print(X_test.shape)"
   ]
  },
  {
   "cell_type": "markdown",
   "id": "71012ace",
   "metadata": {},
   "source": [
    "## Feature Normalization"
   ]
  },
  {
   "cell_type": "markdown",
   "id": "cf4bb59b",
   "metadata": {},
   "source": [
    "berikut metode normalisasi yang bisa digunakan:\n",
    "- Min-Max Scaling\n",
    "- Standardization (Z-score)\n",
    "- Robust Scaling\n",
    "- MaxAbsScaler\n",
    "- dll\n",
    "\n",
    "berikut contoh menggunakan Standardization (Z-score):"
   ]
  },
  {
   "cell_type": "code",
   "execution_count": null,
   "id": "9667697c",
   "metadata": {},
   "outputs": [],
   "source": [
    "# normalisasi mean std\n",
    "X_test = (X_test - X_train.mean()) / X_train.std()\n",
    "X_train = (X_train - X_train.mean()) / X_train.std()"
   ]
  },
  {
   "cell_type": "markdown",
   "id": "dd1c55ef",
   "metadata": {},
   "source": [
    "## Modeling"
   ]
  },
  {
   "cell_type": "markdown",
   "id": "6cd2592a",
   "metadata": {},
   "source": [
    "### Define Model"
   ]
  },
  {
   "cell_type": "code",
   "execution_count": null,
   "id": "00cb67c7",
   "metadata": {},
   "outputs": [],
   "source": [
    "def generateClassificationReport(y_true, y_pred):\n",
    "\tprint(classification_report(y_true, y_pred))\n",
    "\tprint(confusion_matrix(y_true, y_pred))\n",
    "\tprint('Accuracy:', accuracy_score(y_true, y_pred))\n",
    "\n",
    "# Define classifiers\n",
    "rf = RandomForestClassifier(n_estimators=5, random_state=42)\n",
    "svm = SVC(kernel='rbf', random_state=42)\n",
    "knn = KNeighborsClassifier(n_neighbors=5)"
   ]
  },
  {
   "cell_type": "markdown",
   "id": "ab2d7434",
   "metadata": {},
   "source": [
    "### Train Random Forest Classifier"
   ]
  },
  {
   "cell_type": "code",
   "execution_count": null,
   "id": "8522fb23",
   "metadata": {},
   "outputs": [],
   "source": [
    "# Train Random Forest Classifier\n",
    "rf.fit(X_train, y_train)\n",
    "\n",
    "# Make predictions and evaluate the model with the training set\n",
    "print(\"------Training Set------\")\n",
    "y_pred = rf.predict(X_train)\n",
    "generateClassificationReport( y_train, y_pred)\n",
    "\n",
    "# Make predictions and evaluate the model with the testing set\n",
    "print(\"\\n------Testing Set------\")\n",
    "y_pred = rf.predict(X_test)\n",
    "generateClassificationReport( y_test, y_pred)"
   ]
  },
  {
   "cell_type": "markdown",
   "id": "9350ab68",
   "metadata": {},
   "source": [
    "### Train SVM Classifier"
   ]
  },
  {
   "cell_type": "code",
   "execution_count": null,
   "id": "fbb8e0ff",
   "metadata": {},
   "outputs": [],
   "source": [
    "# Train SVM Classifier\n",
    "svm.fit(X_train, y_train)\n",
    "\n",
    "# Make predictions and evaluate the model with the training set\n",
    "print(\"\\n------Training Set------\")\n",
    "y_pred = svm.predict(X_train)\n",
    "generateClassificationReport( y_train, y_pred)\n",
    "\n",
    "# Make predictions and evaluate the model with the testing set\n",
    "print(\"\\n------Testing Set------\")\n",
    "y_pred = svm.predict(X_test)\n",
    "generateClassificationReport( y_test, y_pred)"
   ]
  },
  {
   "cell_type": "markdown",
   "id": "23934390",
   "metadata": {},
   "source": [
    "### Train KNN Classifier"
   ]
  },
  {
   "cell_type": "code",
   "execution_count": null,
   "id": "df07ab4b",
   "metadata": {},
   "outputs": [],
   "source": [
    "# Train KNN Classifier\n",
    "knn.fit(X_train, y_train)\n",
    "\n",
    "# Make predictions and evaluate the model with the training set\n",
    "print(\"\\n------Training Set------\")\n",
    "y_pred = knn.predict(X_train)\n",
    "generateClassificationReport( y_train, y_pred)\n",
    "\n",
    "# Make predictions and evaluate the model with the testing set\n",
    "print(\"\\n------Testing Set------\")\n",
    "y_pred = knn.predict(X_test)\n",
    "generateClassificationReport( y_test, y_pred)\n"
   ]
  },
  {
   "cell_type": "markdown",
   "id": "29f8b588",
   "metadata": {},
   "source": [
    "## Evaluation With Confusion Matrix"
   ]
  },
  {
   "cell_type": "code",
   "execution_count": null,
   "id": "2f7c107f",
   "metadata": {},
   "outputs": [],
   "source": [
    "def plot_confusion_matrix(y_true, y_pred, title):\n",
    "    cm = confusion_matrix(y_true, y_pred)\n",
    "    disp = ConfusionMatrixDisplay(confusion_matrix=cm)\n",
    "    disp.plot(cmap=plt.cm.Blues)\n",
    "    plt.title(title)\n",
    "    plt.show()\n",
    "\n",
    "# Plot confusion matrix for Random Forest\n",
    "plot_confusion_matrix(y_test, rf.predict(X_test), \"Random Forest Confusion Matrix\")\n",
    "# Plot confusion matrix for SVM\n",
    "plot_confusion_matrix(y_test, svm.predict(X_test), \"SVM Confusion Matrix\")\n",
    "# Plot confusion matrix for KNN\n",
    "plot_confusion_matrix(y_test, knn.predict(X_test), \"KNN Confusion Matrix\")"
   ]
  }
 ],
 "metadata": {
  "kernelspec": {
   "display_name": "Python 3",
   "language": "python",
   "name": "python3"
  },
  "language_info": {
   "codemirror_mode": {
    "name": "ipython",
    "version": 3
   },
   "file_extension": ".py",
   "mimetype": "text/x-python",
   "name": "python",
   "nbconvert_exporter": "python",
   "pygments_lexer": "ipython3",
   "version": "3.13.2"
  }
 },
 "nbformat": 4,
 "nbformat_minor": 5
}

# ubah commit
